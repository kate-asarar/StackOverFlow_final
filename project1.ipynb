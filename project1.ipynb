{
 "cells": [
  {
   "cell_type": "markdown",
   "metadata": {},
   "source": [
    "This page is used to answer three main questions using Stackoverflow data. \n",
    "• How has the salary changed over the years and what has had the biggest influence on the salary\n",
    "• Is there a correlation between any of the number of programming languages one uses, experiance in years and gender?\n",
    "• Is there a significant difference in programming languages and salary depending on gender or education level?\n",
    "\n",
    "Make sure to add the path to your data folder in the scond cell of this notebook!:) "
   ]
  },
  {
   "cell_type": "code",
   "execution_count": 4,
   "metadata": {},
   "outputs": [],
   "source": [
    "# import numpy as np\n",
    "import pandas as pd\n",
    "import matplotlib.pyplot as plt\n",
    "import seaborn as sns\n",
    "import distutils.util as util\n",
    "import numpy as np\n",
    "from collections import Counter\n",
    "from matplotlib.font_manager import FontProperties\n",
    "import os\n",
    "from re import split\n",
    "%matplotlib inline"
   ]
  },
  {
   "cell_type": "code",
   "execution_count": 24,
   "metadata": {},
   "outputs": [
    {
     "name": "stderr",
     "output_type": "stream",
     "text": [
      "C:\\Users\\Kate\\anaconda\\lib\\site-packages\\IPython\\core\\interactiveshell.py:3254: DtypeWarning: Columns (46,48,62) have mixed types.Specify dtype option on import or set low_memory=False.\n",
      "  if (await self.run_code(code, result,  async_=asy)):\n",
      "C:\\Users\\Kate\\anaconda\\lib\\site-packages\\IPython\\core\\interactiveshell.py:3254: DtypeWarning: Columns (5,108,121,196,197,198) have mixed types.Specify dtype option on import or set low_memory=False.\n",
      "  if (await self.run_code(code, result,  async_=asy)):\n",
      "C:\\Users\\Kate\\anaconda\\lib\\site-packages\\IPython\\core\\interactiveshell.py:3254: DtypeWarning: Columns (8,12,13,14,15,16,50,51,52,53,55,56,57,58,59,60,61,62,63,64,65,66,67,68,69,70,71,72,73,74,75,76,77,78,79,80,81,82,83,84,85,93,94,95,96,97,98,99,100,101,102,103,104,105,106,107,108,109,110,111,112,113,114,115,116,117,118,119,120,121,122,123,124,125,126,127,128) have mixed types.Specify dtype option on import or set low_memory=False.\n",
      "  if (await self.run_code(code, result,  async_=asy)):\n"
     ]
    }
   ],
   "source": [
    "# read in the data from data folder\n",
    "def read_in_data():\n",
    "    data_dict = {}\n",
    "    suffix=\".csv\"\n",
    "    data_folder_path = os.path.abspath(r'') # Insert path to data here!\n",
    "    filenames = os.listdir(data_folder_path)\n",
    "    filenameslist = [ filename for filename in filenames if filename.endswith( suffix ) ]\n",
    "    for file in filenameslist:\n",
    "        year = split('[|_| .| ]| ' , file)[2]\n",
    "        # insert path to your data folder here\n",
    "        data = pd.read_csv(os.path.join(data_folder_path, file),encoding='latin1')\n",
    "        data_dict[year] = data\n",
    "    return data_dict\n",
    "\n",
    "# Declare universal variables \n",
    "years = ['2011', '2012', '2013', '2014', '2015', '2016', '2017', '2018', '2019']\n",
    "languages = ['Java', 'JavaScript', 'CSS', 'PHP', 'Python', 'Ruby', 'SQL', 'C#', 'C++', 'C', 'Perl', 'None', 'Other']\n",
    "\n",
    "# Rplace column headers with first row for years 2011 to 2014 \n",
    "def replace_header():\n",
    "    for year in years[0:5]:\n",
    "        new_headers = list(data_dict[year].iloc[0])\n",
    "        data_dict[year] = data_dict[year][1:]\n",
    "        data_dict[year].columns = new_headers\n",
    "\n",
    "\n",
    "data_dict = read_in_data()\n",
    "replace_header()"
   ]
  },
  {
   "cell_type": "code",
   "execution_count": 28,
   "metadata": {},
   "outputs": [],
   "source": [
    "# Get language columns 2015\n",
    "\n",
    "cols = data_dict['2015'].columns\n",
    "language_columns_2015 = []\n",
    "def get_language_columns_2015():\n",
    "    for col in cols:\n",
    "        for language in languages:\n",
    "            if language in col and 'Current Lang & Tech' in col: \n",
    "                language_columns_2015.append(col)\n",
    "    return np.unique(language_columns_2015)"
   ]
  },
  {
   "cell_type": "code",
   "execution_count": 29,
   "metadata": {},
   "outputs": [],
   "source": [
    "# Get language columns for 2011 to 2014 dataframe\n",
    "\n",
    "def add_language_column_2011_2014():\n",
    "    for year in years[0:4]:\n",
    "        data_dict[year]['languages_worked_on'] = \"\"\n",
    "        for i in list(data_dict[year].index):\n",
    "            languages_worked_on = []\n",
    "            for language in languages: \n",
    "                if language in data_dict[year].columns:\n",
    "                    try: \n",
    "                        if data_dict[year].loc[i, [language]].notna().any():\n",
    "                            languages_worked_on.append(''.join(language.split()))\n",
    "                    except Exception as e: \n",
    "                        print('Row: {} Language: {} year: {} error: {}'.format(i, language, year, e))\n",
    "            languages_worked_on = ';'.join(languages_worked_on)\n",
    "            data_dict[year].loc[i, ['languages_worked_on']] = languages_worked_on\n"
   ]
  },
  {
   "cell_type": "code",
   "execution_count": 30,
   "metadata": {},
   "outputs": [],
   "source": [
    "# Add languages worked on column to 2015 dataset\n",
    "\n",
    "def add_language_columns_2015():\n",
    "    language_columns_2015 = get_language_columns_2015()\n",
    "    data_dict['2015']['languages_worked_on'] = \"\"\n",
    "    for i in list(data_dict['2015'].index):\n",
    "        languages_worked_on = []\n",
    "        for col in language_columns_2015:\n",
    "            language = col.split(':')[1]\n",
    "            if data_dict['2015'].loc[i, [col]].notna().any():\n",
    "                languages_worked_on.append(language)\n",
    "        languages_worked_on = ';'.join(languages_worked_on)\n",
    "        data_dict['2015'].loc[i, ['languages_worked_on']] = languages_worked_on\n",
    "                "
   ]
  },
  {
   "cell_type": "code",
   "execution_count": null,
   "metadata": {},
   "outputs": [],
   "source": [
    "data_dict['2016'].rename(columns={\"tech_do\": \"languages_worked_on\"}, inplace=True)\n",
    "data_dict['2017'].rename(columns={\"HaveWorkedLanguage\": \"languages_worked_on\"}, inplace=True)\n",
    "data_dict['2018'].rename(columns={\"LanguageWorkedWith\": \"languages_worked_on\"}, inplace=True)\n",
    "data_dict['2019'].rename(columns={\"LanguageWorkedWith\": \"languages_worked_on\"}, inplace=True)\n",
    "add_language_column_2011_2014()\n",
    "add_language_columns_2015()"
   ]
  },
  {
   "cell_type": "code",
   "execution_count": null,
   "metadata": {},
   "outputs": [],
   "source": [
    "# Question 1: How has the programming language most used change over the years?\n",
    "\n",
    "languages_dict = {}\n",
    "for year in years:\n",
    "    new_lang = []\n",
    "    for row in data_dict[year].index[1:200]:\n",
    "        new_lang.extend(data_dict[year].loc[row, ['languages_worked_on']].to_string(index = False).split(';'))\n",
    "    new_lang = [''.join(l.split()) for l in new_lang]\n",
    "    counter = Counter(new_lang)\n",
    "    try: \n",
    "        del counter['NaN'] \n",
    "    except: \n",
    "        continue\n",
    "    most_common =  dict(counter.most_common(8))\n",
    "    most_common['Other'] = (sum(counter.values()) - sum(most_common.values()))\n",
    "    factor = 1/sum(counter.values())\n",
    "    most_common = {key:value*factor for key,value in most_common.items()}\n",
    "    languages_dict[year] = most_common\n",
    "   "
   ]
  },
  {
   "cell_type": "code",
   "execution_count": null,
   "metadata": {},
   "outputs": [],
   "source": [
    "# Have a look at the most populare languages per year\n",
    "for year in years: \n",
    "    print('Year: ', year, '   Languages: ', list(languages_dict[year]))"
   ]
  },
  {
   "cell_type": "code",
   "execution_count": null,
   "metadata": {},
   "outputs": [],
   "source": [
    "# Plot results \n",
    "def plot_common_languages():\n",
    "    pd.DataFrame(languages_dict).T.plot(kind='bar')\n",
    "    # Put a legend to the right of the current axis\n",
    "    plt.legend(loc='center left', bbox_to_anchor=(1, 0.5))\n",
    "    plt.show()\n",
    "    \n",
    "plot_common_languages()"
   ]
  },
  {
   "cell_type": "code",
   "execution_count": null,
   "metadata": {},
   "outputs": [],
   "source": [
    "# Answer question2: Is there a link between the programming languages and salary?\n",
    "def add_number_of_languages_column():\n",
    "    for year in years:\n",
    "        for row in data_dict[year].index:\n",
    "            lang = data_dict[year].loc[row, ['languages_worked_on']].to_string(index = False).split(';')\n",
    "            if lang == [' '] or lang == [' NaN']: \n",
    "                nr_lang = 0\n",
    "                data_dict[year].loc[row,['number_of_languages']] = nr_lang\n",
    "            else: \n",
    "                nr_lang = len(lang)\n",
    "                data_dict[year].loc[row, ['number_of_languages']] = nr_lang\n",
    "add_number_of_languages_column()"
   ]
  },
  {
   "cell_type": "code",
   "execution_count": null,
   "metadata": {},
   "outputs": [],
   "source": [
    "df = data_dict['2019']\n",
    "df =df.loc[(df['number_of_languages'] > 0 ) & (df['MainBranch'] == 'I am a developer by profession')] \n",
    "df = df.loc[df['Gender'].isin(['Man', 'Woman'])]\n",
    "df.rename(columns = {'ConvertedComp' : 'Salary'}, inplace=True)\n"
   ]
  },
  {
   "cell_type": "code",
   "execution_count": null,
   "metadata": {},
   "outputs": [],
   "source": [
    "# Question 2: Meassure correlation between Salary, Gender, Years spent coding and number of programming languages used\n",
    "\n",
    "df_corr = df[['Gender', 'Salary', 'YearsCode', 'number_of_languages']]\n",
    "df_corr['Gender'][df_corr['Gender'] == 'Man'] = 0\n",
    "df_corr['Gender'][df_corr['Gender'] == 'Woman'] = 1\n",
    "df_corr['YearsCode'][df_corr['YearsCode'] == 'Less than 1 year'] = 0.5\n",
    "df_corr['YearsCode'][df_corr['YearsCode'] == 'More than 50 years'] = 60\n",
    "\n",
    "for col in df_corr.columns:\n",
    "    df_corr[pd.to_numeric(df[col], errors='coerce').notnull()]\n",
    "    df_corr[col] = df_corr[col].astype(float)\n",
    "    \n",
    "# Plot correlation matrix \n",
    "def plot_corr_matrix(df_corr):\n",
    "    corr = df_corr.corr()\n",
    "    ax = sns.heatmap(\n",
    "        corr, \n",
    "        vmin=-1, vmax=1, center=0,\n",
    "        cmap=sns.diverging_palette(20, 220, n=200),\n",
    "        square=True\n",
    "    )\n",
    "    ax.set_xticklabels(\n",
    "        ax.get_xticklabels(),\n",
    "        rotation=45,\n",
    "        horizontalalignment='right'\n",
    "    );\n",
    "    plt.savefig('CorrMatrix')\n",
    "    \n",
    "plot_corr_matrix(df_corr)"
   ]
  },
  {
   "cell_type": "code",
   "execution_count": null,
   "metadata": {},
   "outputs": [],
   "source": [
    "# Question 3: Visualize the effect of education and programming as a hobby on Salary\n",
    "df = data_dict['2019']\n",
    "df = df.loc[df['Gender'].isin(['Man', 'Woman'])]\n",
    "pd.DataFrame(df.query(\"MainBranch == 'I am a developer by profession' \").groupby(['Gender', 'EdLevel']).mean()['ConvertedComp'])"
   ]
  }
 ],
 "metadata": {
  "kernelspec": {
   "display_name": "Python 3",
   "language": "python",
   "name": "python3"
  },
  "language_info": {
   "codemirror_mode": {
    "name": "ipython",
    "version": 3
   },
   "file_extension": ".py",
   "mimetype": "text/x-python",
   "name": "python",
   "nbconvert_exporter": "python",
   "pygments_lexer": "ipython3",
   "version": "3.7.6"
  }
 },
 "nbformat": 4,
 "nbformat_minor": 4
}
